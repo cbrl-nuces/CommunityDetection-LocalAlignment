{
 "cells": [
  {
   "cell_type": "markdown",
   "metadata": {
    "id": "573kKFFZuI51"
   },
   "source": [
    "# Node representation learning with GraphSAGE and UnsupervisedSampler\n"
   ]
  },
  {
   "cell_type": "markdown",
   "metadata": {
    "id": "sxGNKVKsuI6A"
   },
   "source": [
    "Stellargraph Unsupervised GraphSAGE is the implementation of GraphSAGE method outlined in the paper: [Inductive Representation Learning on Large Graphs.](http://snap.stanford.edu/graphsage/) W.L. Hamilton, R. Ying, and J. Leskovec arXiv:1706.02216\n",
    "[cs.SI], 2017. \n",
    "\n",
    "This notebook is a short demo of how Stellargraph Unsupervised GraphSAGE can be used to learn embeddings of the nodes representing papers in the [CORA citation network](https://linqs-data.soe.ucsc.edu/public/lbc/cora.tgz). Furthermore, this notebook demonstrates the use of the learnt embeddings in a downstream node classification task (classifying papers by subject). Note that the node embeddings can also be used in other graph machine learning tasks, such as link prediction, community detection, etc.\n",
    "\n",
    "## Unsupervised GraphSAGE:\n",
    "\n",
    "A high-level explanation of the unsupervised GraphSAGE method of graph representation learning is as follows.\n",
    "\n",
    "Objective: *Given a graph, learn embeddings of the nodes using only the graph structure and the node features, without using any known node class labels* (hence \"unsupervised\"; for semi-supervised learning of node embeddings, see this [demo](../node-classification/graphsage-node-classification.ipynb))\n",
    "\n",
    "**Unsupervised GraphSAGE model:** In the Unsupervised GraphSAGE model, node embeddings are learnt by solving a simple classification task: given a large set of \"positive\" `(target, context)` node pairs generated from random walks performed on the graph (i.e., node pairs that co-occur within a certain context window in random walks), and an equally large set of \"negative\" node pairs that are randomly selected from the graph according to a certain distribution, learn a binary classifier that predicts whether arbitrary node pairs are likely to co-occur in a random walk performed on the graph. Through learning this simple binary node-pair-classification task, the model automatically learns an inductive mapping from attributes of nodes and their neighbors to node embeddings in a high-dimensional vector space, which preserves structural and feature similarities of the nodes. Unlike embeddings obtained by algorithms such as [Node2Vec](https://snap.stanford.edu/node2vec), this mapping is inductive: given a new node (with attributes) and its links to other nodes in the graph (which was unseen during model training), we can evaluate its embeddings without having to re-train the model. \n",
    "\n",
    "In our implementation of Unsupervised GraphSAGE, the training set of node pairs is composed of an equal number of positive and negative `(target, context)` pairs from the graph. The positive `(target, context)` pairs are the node pairs co-occurring on random walks over the graph whereas the negative node pairs are sampled randomly from a global node degree distribution of the graph.\n",
    "\n",
    "The architecture of the node pair classifier is the following. Input node pairs (with node features) are fed, together with the graph structure, into a pair of identical GraphSAGE encoders, producing a pair of node embeddings. These embeddings are then fed into a node pair classification layer, which applies a binary operator to those node embeddings (e.g., concatenating them), and passes the resulting node pair embeddings through a linear transform followed by a binary activation (e.g., sigmoid), thus predicting a binary label for the node pair. \n",
    "\n",
    "The entire model is trained end-to-end by minimizing the loss function of choice (e.g., binary cross-entropy between predicted node pair labels and true link labels) using stochastic gradient descent (SGD) updates of the model parameters, with minibatches of 'training' links generated on demand and fed into the model.\n",
    "\n",
    "Node embeddings obtained from the encoder part of the trained classifier can be used in various downstream tasks. In this demo, we show how these can be used for predicting node labels."
   ]
  },
  {
   "cell_type": "code",
   "execution_count": 22,
   "metadata": {
    "id": "NJ6AIJw4uI6C",
    "nbsphinx": "hidden",
    "tags": [
     "CloudRunner"
    ]
   },
   "outputs": [],
   "source": [
    "# install StellarGraph if running on Google Colab\n",
    "# import sys\n",
    "# if 'google.colab' in sys.modules:\n",
    "#   %pip install -q stellargraph[demos]==1.2.1"
   ]
  },
  {
   "cell_type": "code",
   "execution_count": 23,
   "metadata": {
    "id": "66sitARnuI6F",
    "nbsphinx": "hidden",
    "tags": [
     "VersionCheck"
    ]
   },
   "outputs": [],
   "source": [
    "# verify that we're using the correct version of StellarGraph for this notebook\n",
    "# import stellargraph as sg\n",
    "\n",
    "# try:\n",
    "#     sg.utils.validate_notebook_version(\"1.2.1\")\n",
    "# except AttributeError:\n",
    "#     raise ValueError(\n",
    "#         f\"This notebook requires StellarGraph version 1.2.1, but a different version {sg.__version__} is installed.  Please see <https://github.com/stellargraph/stellargraph/issues/1172>.\"\n",
    "#     ) from None"
   ]
  },
  {
   "cell_type": "code",
   "execution_count": 24,
   "metadata": {
    "id": "AMgwPCvAuI6H"
   },
   "outputs": [],
   "source": [
    "import networkx as nx\n",
    "import pandas as pd\n",
    "import numpy as np\n",
    "import os\n",
    "import random\n",
    "import math\n",
    "\n",
    "import stellargraph as sg\n",
    "from stellargraph.data import EdgeSplitter\n",
    "from stellargraph.mapper import GraphSAGELinkGenerator\n",
    "from stellargraph.layer import GraphSAGE, link_classification\n",
    "from stellargraph.data import UniformRandomWalk\n",
    "from stellargraph.data import UnsupervisedSampler\n",
    "from sklearn.model_selection import train_test_split\n",
    "\n",
    "from tensorflow import keras\n",
    "from sklearn import preprocessing, feature_extraction, model_selection\n",
    "from sklearn.linear_model import LogisticRegressionCV, LogisticRegression\n",
    "from sklearn.metrics import accuracy_score\n",
    "\n",
    "from stellargraph import globalvar\n",
    "\n",
    "from stellargraph import datasets\n",
    "from IPython.display import display, HTML"
   ]
  },
  {
   "cell_type": "markdown",
   "metadata": {
    "id": "JqNkne-YuI6I"
   },
   "source": [
    "## Loading the CORA network data"
   ]
  },
  {
   "cell_type": "markdown",
   "metadata": {
    "id": "cIFNgdyDuI6J",
    "tags": [
     "DataLoadingLinks"
    ]
   },
   "source": [
    "(See [the \"Loading from Pandas\" demo](../basics/loading-pandas.ipynb) for details on how data can be loaded.)"
   ]
  },
  {
   "cell_type": "code",
   "execution_count": 25,
   "metadata": {},
   "outputs": [
    {
     "name": "stdout",
     "output_type": "stream",
     "text": [
      "1229 1229 744\n"
     ]
    },
    {
     "data": {
      "text/html": [
       "<div>\n",
       "<style scoped>\n",
       "    .dataframe tbody tr th:only-of-type {\n",
       "        vertical-align: middle;\n",
       "    }\n",
       "\n",
       "    .dataframe tbody tr th {\n",
       "        vertical-align: top;\n",
       "    }\n",
       "\n",
       "    .dataframe thead th {\n",
       "        text-align: right;\n",
       "    }\n",
       "</style>\n",
       "<table border=\"1\" class=\"dataframe\">\n",
       "  <thead>\n",
       "    <tr style=\"text-align: right;\">\n",
       "      <th></th>\n",
       "      <th>source</th>\n",
       "      <th>target</th>\n",
       "    </tr>\n",
       "  </thead>\n",
       "  <tbody>\n",
       "    <tr>\n",
       "      <th>0</th>\n",
       "      <td>A2AQR4</td>\n",
       "      <td>A2AQR4</td>\n",
       "    </tr>\n",
       "    <tr>\n",
       "      <th>1</th>\n",
       "      <td>A2AQR4</td>\n",
       "      <td>Q6PGF3</td>\n",
       "    </tr>\n",
       "    <tr>\n",
       "      <th>2</th>\n",
       "      <td>A2AQR4</td>\n",
       "      <td>Q99PM3</td>\n",
       "    </tr>\n",
       "    <tr>\n",
       "      <th>3</th>\n",
       "      <td>B2RWS6</td>\n",
       "      <td>Q04207</td>\n",
       "    </tr>\n",
       "    <tr>\n",
       "      <th>4</th>\n",
       "      <td>B2RWS6</td>\n",
       "      <td>Q9JHD1</td>\n",
       "    </tr>\n",
       "    <tr>\n",
       "      <th>...</th>\n",
       "      <td>...</td>\n",
       "      <td>...</td>\n",
       "    </tr>\n",
       "    <tr>\n",
       "      <th>1224</th>\n",
       "      <td>Q9Z0H0</td>\n",
       "      <td>Q9Z1N2</td>\n",
       "    </tr>\n",
       "    <tr>\n",
       "      <th>1225</th>\n",
       "      <td>Q9Z1A1</td>\n",
       "      <td>Q9Z1A1</td>\n",
       "    </tr>\n",
       "    <tr>\n",
       "      <th>1226</th>\n",
       "      <td>Q9Z1N2</td>\n",
       "      <td>Q9Z1X9</td>\n",
       "    </tr>\n",
       "    <tr>\n",
       "      <th>1227</th>\n",
       "      <td>Q9Z223</td>\n",
       "      <td>Q9Z223</td>\n",
       "    </tr>\n",
       "    <tr>\n",
       "      <th>1228</th>\n",
       "      <td>S4R1L6</td>\n",
       "      <td>S4R1L6</td>\n",
       "    </tr>\n",
       "  </tbody>\n",
       "</table>\n",
       "<p>1229 rows × 2 columns</p>\n",
       "</div>"
      ],
      "text/plain": [
       "      source  target\n",
       "0     A2AQR4  A2AQR4\n",
       "1     A2AQR4  Q6PGF3\n",
       "2     A2AQR4  Q99PM3\n",
       "3     B2RWS6  Q04207\n",
       "4     B2RWS6  Q9JHD1\n",
       "...      ...     ...\n",
       "1224  Q9Z0H0  Q9Z1N2\n",
       "1225  Q9Z1A1  Q9Z1A1\n",
       "1226  Q9Z1N2  Q9Z1X9\n",
       "1227  Q9Z223  Q9Z223\n",
       "1228  S4R1L6  S4R1L6\n",
       "\n",
       "[1229 rows x 2 columns]"
      ]
     },
     "execution_count": 25,
     "metadata": {},
     "output_type": "execute_result"
    }
   ],
   "source": [
    "f = open(\"data/mouse.interaction\") ## Human Data: change file name, if you want to run human data\n",
    "lines = f.readlines() \n",
    "f.close()\n",
    "\n",
    "list_a=[]\n",
    "list_b=[]\n",
    "nodes = []\n",
    "\n",
    "for i in range(len(lines)):\n",
    "    tokens = lines[i].split(\"\\t\")\n",
    "    list_a.append(tokens[0])\n",
    "    list_b.append(tokens[1].strip(\"\\n\"))\n",
    "    if (tokens[0] not in nodes):\n",
    "        nodes.append(tokens[0])\n",
    "    if (tokens[1].strip(\"\\n\") not in nodes):\n",
    "        nodes.append(tokens[1].strip(\"\\n\"))\n",
    "    \n",
    "print (len(list_a),len(list_b), len(nodes))\n",
    "\n",
    "square_numeric_edges = pd.DataFrame(\n",
    "    {\"source\": list_a, \"target\": list_b}\n",
    ")\n",
    "square_numeric_edges"
   ]
  },
  {
   "cell_type": "code",
   "execution_count": 26,
   "metadata": {},
   "outputs": [],
   "source": [
    "ind = np.arange(0,len(nodes),1)\n",
    "\n",
    "# RANDOM DATA (if you want to get embeddings purely from network structure, use random data instead of exp. data)\n",
    "\n",
    "# f1=[]\n",
    "# f2=[]\n",
    "# for i in range(len(nodes)):\n",
    "#     f1.append(np.random.random(1)[0])\n",
    "#     f2.append(np.random.random(1)[0])\n",
    "\n",
    "# print (len(f1))\n",
    "# print (len(ind))\n"
   ]
  },
  {
   "cell_type": "code",
   "execution_count": 27,
   "metadata": {},
   "outputs": [
    {
     "name": "stdout",
     "output_type": "stream",
     "text": [
      "(700, 69)\n",
      "700\n",
      "(744, 67)\n"
     ]
    }
   ],
   "source": [
    "\n",
    "# EXPRESSION DATA (NOTE: un-comment mouse section / human section)\n",
    "\n",
    "# 1- Mouse\n",
    "a = np.zeros((len(nodes),67))\n",
    "mouse_exp_data = pd.read_csv(\"data/mouse_exp_data.csv\")  ## change file name\n",
    "print (mouse_exp_data.shape)\n",
    "\n",
    "# 2- Human\n",
    "# a = np.zeros((len(nodes),158))\n",
    "# mouse_exp_data = pd.read_csv(\"data/human_exp_data_avg.csv\", header = None)  ## change file name\n",
    "# print (mouse_exp_data.shape)\n",
    "\n",
    "mouse_exp_data = np.asarray(mouse_exp_data)\n",
    "exp_genes = mouse_exp_data[:,1]\n",
    "print (len(exp_genes))\n",
    "for i in range(len(exp_genes)):\n",
    "    index = nodes.index(exp_genes[i])\n",
    "    for j in range(a.shape[1]):\n",
    "        a[index][j] = mouse_exp_data[i][j+2]\n",
    "        \n",
    "print (a.shape)\n",
    "\n",
    "\n",
    "# ***** IMPORTANT COMMENTS, PLEASE READ IT CAREFULLY ******\n",
    "\n",
    "### uncomment the below section if you want to run normalized and discritized version.\n",
    "### Otherwise, by default it will use log based normalization that achieved best results.\n",
    "### If you want simple normalization then un-comment the below line and comment rest of the code of this cell.\n",
    "\n",
    "# OPTION: 1\n",
    "# normalized = preprocessing.normalize(a) # Normalization\n",
    "\n",
    "# OPTION: 2\n",
    "# norm_012 = np.zeros((normalized.shape[0], normalized.shape[1]))\n",
    "# for i in range(normalized.shape[0]):\n",
    "#     for j in range(normalized.shape[1]):\n",
    "#         if normalized[i][j] <= 0.10:\n",
    "#             norm_012[i][j] = 0\n",
    "#         elif normalized[i][j] > 0.10 and normalized[i][j] <= 0.25:\n",
    "#             norm_012[i][j] = 1\n",
    "#         elif normalized[i][j] > 0.25 and normalized[i][j] <= 0.50:\n",
    "#             norm_012[i][j] = 2\n",
    "#         elif normalized[i][j] > 0.50 and normalized[i][j] <= 0.75:\n",
    "#             norm_012[i][j] = 3\n",
    "#         else:\n",
    "#             norm_012[i][j] = 4\n",
    "\n",
    "# OPTION: 3\n",
    "# log normalization\n",
    "norm_log = np.zeros((a.shape[0], a.shape[1]))\n",
    "for i in range(a.shape[0]):\n",
    "    for j in range(a.shape[1]):\n",
    "        if a[i][j] > 0:\n",
    "            norm_log[i][j] = round(math.log2(a[i][j]),2)"
   ]
  },
  {
   "cell_type": "code",
   "execution_count": 28,
   "metadata": {},
   "outputs": [
    {
     "data": {
      "text/html": [
       "<div>\n",
       "<style scoped>\n",
       "    .dataframe tbody tr th:only-of-type {\n",
       "        vertical-align: middle;\n",
       "    }\n",
       "\n",
       "    .dataframe tbody tr th {\n",
       "        vertical-align: top;\n",
       "    }\n",
       "\n",
       "    .dataframe thead th {\n",
       "        text-align: right;\n",
       "    }\n",
       "</style>\n",
       "<table border=\"1\" class=\"dataframe\">\n",
       "  <thead>\n",
       "    <tr style=\"text-align: right;\">\n",
       "      <th></th>\n",
       "      <th>0</th>\n",
       "      <th>1</th>\n",
       "      <th>2</th>\n",
       "      <th>3</th>\n",
       "      <th>4</th>\n",
       "      <th>5</th>\n",
       "      <th>6</th>\n",
       "      <th>7</th>\n",
       "      <th>8</th>\n",
       "      <th>9</th>\n",
       "      <th>...</th>\n",
       "      <th>57</th>\n",
       "      <th>58</th>\n",
       "      <th>59</th>\n",
       "      <th>60</th>\n",
       "      <th>61</th>\n",
       "      <th>62</th>\n",
       "      <th>63</th>\n",
       "      <th>64</th>\n",
       "      <th>65</th>\n",
       "      <th>66</th>\n",
       "    </tr>\n",
       "  </thead>\n",
       "  <tbody>\n",
       "    <tr>\n",
       "      <th>A2AQR4</th>\n",
       "      <td>2.29</td>\n",
       "      <td>2.25</td>\n",
       "      <td>2.12</td>\n",
       "      <td>2.75</td>\n",
       "      <td>2.46</td>\n",
       "      <td>2.40</td>\n",
       "      <td>2.56</td>\n",
       "      <td>2.05</td>\n",
       "      <td>1.96</td>\n",
       "      <td>2.23</td>\n",
       "      <td>...</td>\n",
       "      <td>2.42</td>\n",
       "      <td>0.61</td>\n",
       "      <td>-0.10</td>\n",
       "      <td>3.40</td>\n",
       "      <td>3.44</td>\n",
       "      <td>3.24</td>\n",
       "      <td>3.27</td>\n",
       "      <td>2.26</td>\n",
       "      <td>2.15</td>\n",
       "      <td>1.69</td>\n",
       "    </tr>\n",
       "    <tr>\n",
       "      <th>Q6PGF3</th>\n",
       "      <td>3.43</td>\n",
       "      <td>3.56</td>\n",
       "      <td>2.89</td>\n",
       "      <td>3.01</td>\n",
       "      <td>3.57</td>\n",
       "      <td>3.78</td>\n",
       "      <td>3.61</td>\n",
       "      <td>3.98</td>\n",
       "      <td>4.14</td>\n",
       "      <td>3.84</td>\n",
       "      <td>...</td>\n",
       "      <td>2.64</td>\n",
       "      <td>5.78</td>\n",
       "      <td>6.02</td>\n",
       "      <td>3.62</td>\n",
       "      <td>3.72</td>\n",
       "      <td>3.52</td>\n",
       "      <td>3.34</td>\n",
       "      <td>3.38</td>\n",
       "      <td>3.67</td>\n",
       "      <td>2.31</td>\n",
       "    </tr>\n",
       "    <tr>\n",
       "      <th>Q99PM3</th>\n",
       "      <td>3.16</td>\n",
       "      <td>3.24</td>\n",
       "      <td>3.28</td>\n",
       "      <td>2.93</td>\n",
       "      <td>3.19</td>\n",
       "      <td>3.29</td>\n",
       "      <td>3.05</td>\n",
       "      <td>3.06</td>\n",
       "      <td>3.29</td>\n",
       "      <td>3.23</td>\n",
       "      <td>...</td>\n",
       "      <td>2.86</td>\n",
       "      <td>3.94</td>\n",
       "      <td>3.95</td>\n",
       "      <td>3.69</td>\n",
       "      <td>3.78</td>\n",
       "      <td>3.88</td>\n",
       "      <td>3.61</td>\n",
       "      <td>4.23</td>\n",
       "      <td>4.07</td>\n",
       "      <td>1.94</td>\n",
       "    </tr>\n",
       "    <tr>\n",
       "      <th>B2RWS6</th>\n",
       "      <td>3.38</td>\n",
       "      <td>3.41</td>\n",
       "      <td>3.24</td>\n",
       "      <td>3.42</td>\n",
       "      <td>3.27</td>\n",
       "      <td>3.48</td>\n",
       "      <td>3.19</td>\n",
       "      <td>3.41</td>\n",
       "      <td>3.40</td>\n",
       "      <td>3.15</td>\n",
       "      <td>...</td>\n",
       "      <td>2.35</td>\n",
       "      <td>3.85</td>\n",
       "      <td>3.72</td>\n",
       "      <td>4.33</td>\n",
       "      <td>4.44</td>\n",
       "      <td>4.30</td>\n",
       "      <td>4.40</td>\n",
       "      <td>3.54</td>\n",
       "      <td>3.78</td>\n",
       "      <td>1.28</td>\n",
       "    </tr>\n",
       "    <tr>\n",
       "      <th>Q04207</th>\n",
       "      <td>4.23</td>\n",
       "      <td>4.43</td>\n",
       "      <td>4.15</td>\n",
       "      <td>4.35</td>\n",
       "      <td>2.83</td>\n",
       "      <td>2.71</td>\n",
       "      <td>2.60</td>\n",
       "      <td>2.72</td>\n",
       "      <td>2.85</td>\n",
       "      <td>2.70</td>\n",
       "      <td>...</td>\n",
       "      <td>3.27</td>\n",
       "      <td>4.03</td>\n",
       "      <td>4.14</td>\n",
       "      <td>4.54</td>\n",
       "      <td>4.40</td>\n",
       "      <td>4.54</td>\n",
       "      <td>4.44</td>\n",
       "      <td>4.43</td>\n",
       "      <td>4.53</td>\n",
       "      <td>3.44</td>\n",
       "    </tr>\n",
       "    <tr>\n",
       "      <th>...</th>\n",
       "      <td>...</td>\n",
       "      <td>...</td>\n",
       "      <td>...</td>\n",
       "      <td>...</td>\n",
       "      <td>...</td>\n",
       "      <td>...</td>\n",
       "      <td>...</td>\n",
       "      <td>...</td>\n",
       "      <td>...</td>\n",
       "      <td>...</td>\n",
       "      <td>...</td>\n",
       "      <td>...</td>\n",
       "      <td>...</td>\n",
       "      <td>...</td>\n",
       "      <td>...</td>\n",
       "      <td>...</td>\n",
       "      <td>...</td>\n",
       "      <td>...</td>\n",
       "      <td>...</td>\n",
       "      <td>...</td>\n",
       "      <td>...</td>\n",
       "    </tr>\n",
       "    <tr>\n",
       "      <th>Q9JLV1</th>\n",
       "      <td>5.22</td>\n",
       "      <td>5.32</td>\n",
       "      <td>4.62</td>\n",
       "      <td>5.21</td>\n",
       "      <td>1.15</td>\n",
       "      <td>0.93</td>\n",
       "      <td>0.78</td>\n",
       "      <td>0.76</td>\n",
       "      <td>1.08</td>\n",
       "      <td>0.84</td>\n",
       "      <td>...</td>\n",
       "      <td>4.13</td>\n",
       "      <td>3.58</td>\n",
       "      <td>3.32</td>\n",
       "      <td>1.12</td>\n",
       "      <td>1.12</td>\n",
       "      <td>1.21</td>\n",
       "      <td>0.96</td>\n",
       "      <td>4.04</td>\n",
       "      <td>4.13</td>\n",
       "      <td>3.49</td>\n",
       "    </tr>\n",
       "    <tr>\n",
       "      <th>Q9QZ09</th>\n",
       "      <td>3.23</td>\n",
       "      <td>3.43</td>\n",
       "      <td>3.52</td>\n",
       "      <td>3.36</td>\n",
       "      <td>4.04</td>\n",
       "      <td>4.19</td>\n",
       "      <td>4.16</td>\n",
       "      <td>3.92</td>\n",
       "      <td>4.14</td>\n",
       "      <td>3.92</td>\n",
       "      <td>...</td>\n",
       "      <td>2.09</td>\n",
       "      <td>5.63</td>\n",
       "      <td>5.65</td>\n",
       "      <td>4.94</td>\n",
       "      <td>4.81</td>\n",
       "      <td>4.82</td>\n",
       "      <td>4.99</td>\n",
       "      <td>3.53</td>\n",
       "      <td>4.34</td>\n",
       "      <td>1.15</td>\n",
       "    </tr>\n",
       "    <tr>\n",
       "      <th>Q9WU42</th>\n",
       "      <td>5.25</td>\n",
       "      <td>5.30</td>\n",
       "      <td>5.66</td>\n",
       "      <td>5.60</td>\n",
       "      <td>5.00</td>\n",
       "      <td>5.29</td>\n",
       "      <td>4.82</td>\n",
       "      <td>5.08</td>\n",
       "      <td>4.88</td>\n",
       "      <td>4.92</td>\n",
       "      <td>...</td>\n",
       "      <td>3.10</td>\n",
       "      <td>3.75</td>\n",
       "      <td>4.10</td>\n",
       "      <td>3.89</td>\n",
       "      <td>3.91</td>\n",
       "      <td>3.80</td>\n",
       "      <td>3.95</td>\n",
       "      <td>4.21</td>\n",
       "      <td>4.83</td>\n",
       "      <td>2.88</td>\n",
       "    </tr>\n",
       "    <tr>\n",
       "      <th>Q9Z2V6</th>\n",
       "      <td>4.54</td>\n",
       "      <td>4.60</td>\n",
       "      <td>4.60</td>\n",
       "      <td>4.56</td>\n",
       "      <td>5.78</td>\n",
       "      <td>6.04</td>\n",
       "      <td>5.96</td>\n",
       "      <td>5.78</td>\n",
       "      <td>5.74</td>\n",
       "      <td>5.83</td>\n",
       "      <td>...</td>\n",
       "      <td>3.74</td>\n",
       "      <td>4.30</td>\n",
       "      <td>4.31</td>\n",
       "      <td>4.27</td>\n",
       "      <td>3.85</td>\n",
       "      <td>4.07</td>\n",
       "      <td>4.32</td>\n",
       "      <td>4.51</td>\n",
       "      <td>5.00</td>\n",
       "      <td>4.28</td>\n",
       "    </tr>\n",
       "    <tr>\n",
       "      <th>Q9Z223</th>\n",
       "      <td>6.72</td>\n",
       "      <td>6.65</td>\n",
       "      <td>6.67</td>\n",
       "      <td>6.68</td>\n",
       "      <td>5.27</td>\n",
       "      <td>5.21</td>\n",
       "      <td>5.56</td>\n",
       "      <td>5.22</td>\n",
       "      <td>5.33</td>\n",
       "      <td>5.36</td>\n",
       "      <td>...</td>\n",
       "      <td>4.64</td>\n",
       "      <td>3.89</td>\n",
       "      <td>3.91</td>\n",
       "      <td>4.82</td>\n",
       "      <td>5.11</td>\n",
       "      <td>5.08</td>\n",
       "      <td>4.96</td>\n",
       "      <td>5.24</td>\n",
       "      <td>5.26</td>\n",
       "      <td>4.10</td>\n",
       "    </tr>\n",
       "  </tbody>\n",
       "</table>\n",
       "<p>744 rows × 67 columns</p>\n",
       "</div>"
      ],
      "text/plain": [
       "          0     1     2     3     4     5     6     7     8     9   ...    57  \\\n",
       "A2AQR4  2.29  2.25  2.12  2.75  2.46  2.40  2.56  2.05  1.96  2.23  ...  2.42   \n",
       "Q6PGF3  3.43  3.56  2.89  3.01  3.57  3.78  3.61  3.98  4.14  3.84  ...  2.64   \n",
       "Q99PM3  3.16  3.24  3.28  2.93  3.19  3.29  3.05  3.06  3.29  3.23  ...  2.86   \n",
       "B2RWS6  3.38  3.41  3.24  3.42  3.27  3.48  3.19  3.41  3.40  3.15  ...  2.35   \n",
       "Q04207  4.23  4.43  4.15  4.35  2.83  2.71  2.60  2.72  2.85  2.70  ...  3.27   \n",
       "...      ...   ...   ...   ...   ...   ...   ...   ...   ...   ...  ...   ...   \n",
       "Q9JLV1  5.22  5.32  4.62  5.21  1.15  0.93  0.78  0.76  1.08  0.84  ...  4.13   \n",
       "Q9QZ09  3.23  3.43  3.52  3.36  4.04  4.19  4.16  3.92  4.14  3.92  ...  2.09   \n",
       "Q9WU42  5.25  5.30  5.66  5.60  5.00  5.29  4.82  5.08  4.88  4.92  ...  3.10   \n",
       "Q9Z2V6  4.54  4.60  4.60  4.56  5.78  6.04  5.96  5.78  5.74  5.83  ...  3.74   \n",
       "Q9Z223  6.72  6.65  6.67  6.68  5.27  5.21  5.56  5.22  5.33  5.36  ...  4.64   \n",
       "\n",
       "          58    59    60    61    62    63    64    65    66  \n",
       "A2AQR4  0.61 -0.10  3.40  3.44  3.24  3.27  2.26  2.15  1.69  \n",
       "Q6PGF3  5.78  6.02  3.62  3.72  3.52  3.34  3.38  3.67  2.31  \n",
       "Q99PM3  3.94  3.95  3.69  3.78  3.88  3.61  4.23  4.07  1.94  \n",
       "B2RWS6  3.85  3.72  4.33  4.44  4.30  4.40  3.54  3.78  1.28  \n",
       "Q04207  4.03  4.14  4.54  4.40  4.54  4.44  4.43  4.53  3.44  \n",
       "...      ...   ...   ...   ...   ...   ...   ...   ...   ...  \n",
       "Q9JLV1  3.58  3.32  1.12  1.12  1.21  0.96  4.04  4.13  3.49  \n",
       "Q9QZ09  5.63  5.65  4.94  4.81  4.82  4.99  3.53  4.34  1.15  \n",
       "Q9WU42  3.75  4.10  3.89  3.91  3.80  3.95  4.21  4.83  2.88  \n",
       "Q9Z2V6  4.30  4.31  4.27  3.85  4.07  4.32  4.51  5.00  4.28  \n",
       "Q9Z223  3.89  3.91  4.82  5.11  5.08  4.96  5.24  5.26  4.10  \n",
       "\n",
       "[744 rows x 67 columns]"
      ]
     },
     "execution_count": 28,
     "metadata": {},
     "output_type": "execute_result"
    }
   ],
   "source": [
    "# Random / Expressions Data Integration ##\n",
    "square_node_data = pd.DataFrame(norm_log, index=nodes) #  un-comment this for log based normalization data\n",
    "# square_node_data = pd.DataFrame(normalized, index=nodes) # un-comment this for normalized data\n",
    "# square_node_data = pd.DataFrame(norm_012, index=nodes) # un-comment this for normalized + discritized data\n",
    "# square_node_data = pd.DataFrame({\"x1\": f1, \"x2\": f2}, index=nodes) # un-comment this for random data\n",
    "\n",
    "square_node_data"
   ]
  },
  {
   "cell_type": "code",
   "execution_count": 29,
   "metadata": {},
   "outputs": [],
   "source": [
    "from stellargraph import StellarGraph\n",
    "G = StellarGraph(square_node_data, square_numeric_edges)"
   ]
  },
  {
   "cell_type": "code",
   "execution_count": 30,
   "metadata": {
    "id": "RrGOzfkeuI6M",
    "outputId": "fcd63fe3-e7bf-4fc4-8897-255efac86dd9"
   },
   "outputs": [
    {
     "name": "stdout",
     "output_type": "stream",
     "text": [
      "StellarGraph: Undirected multigraph\n",
      " Nodes: 744, Edges: 1229\n",
      "\n",
      " Node types:\n",
      "  default: [744]\n",
      "    Features: float32 vector, length 67\n",
      "    Edge types: default-default->default\n",
      "\n",
      " Edge types:\n",
      "    default-default->default: [1229]\n",
      "        Weights: all 1 (default)\n",
      "        Features: none\n"
     ]
    }
   ],
   "source": [
    "print(G.info())"
   ]
  },
  {
   "cell_type": "markdown",
   "metadata": {
    "id": "XDUPd3gBuI6O"
   },
   "source": [
    "## Unsupervised GraphSAGE  with on demand sampling\n",
    "The Unsupervised GraphSAGE requires a training sample that can be either provided as a list of `(target, context)` node pairs or it can be provided with an `UnsupervisedSampler` instance that takes care of generating positive and negative samples of node pairs on demand. In this demo we discuss the latter technique. \n",
    "\n",
    "### UnsupervisedSampler:\n",
    "The `UnsupervisedSampler` class takes in a `Stellargraph` graph instance. The `generator` method in the `UnsupervisedSampler`  is responsible for generating equal number of positive and negative node pair samples from the graph  for training. The samples are generated by performing uniform random walks over the graph, using `UniformRandomWalk` object. Positive `(target, context)` node pairs are extracted from the walks, and for each \n",
    "positive pair a corresponding negative pair `(target, node)` is generated by randomly sampling `node` from the degree distribution of the graph. Once the `batch_size` number of samples is accumulated, the generator yields a list of positive and negative node pairs along with their respective 1/0 labels.  \n",
    "\n",
    "In the current implementation, we use uniform random walks to explore the graph structure. The length and number of walks, as well as the root nodes for starting the walks can be user-specified. The default list for root nodes is all nodes of the graph, default `number_of_walks` is 1 (at least one walk per root node), and the default `length` of walks is 2 (need at least one node beyond the root node on the walk as a potential positive context)."
   ]
  },
  {
   "cell_type": "markdown",
   "metadata": {
    "id": "-_Cpl99juI6R"
   },
   "source": [
    "**1. Specify the other optional parameter values: root nodes, the number of walks to take per node, the length of each walk, and random seed.**"
   ]
  },
  {
   "cell_type": "code",
   "execution_count": 31,
   "metadata": {
    "id": "e3lxgZ46uI6R"
   },
   "outputs": [],
   "source": [
    "nodes = list(G.nodes())\n",
    "number_of_walks = 1\n",
    "length = 2"
   ]
  },
  {
   "cell_type": "markdown",
   "metadata": {
    "id": "McPqx1Q5uI6S"
   },
   "source": [
    "**2. Create the UnsupervisedSampler instance with the relevant parameters passed to it.**"
   ]
  },
  {
   "cell_type": "code",
   "execution_count": 32,
   "metadata": {
    "id": "HM-aFcyzuI6S"
   },
   "outputs": [],
   "source": [
    "unsupervised_samples = UnsupervisedSampler(\n",
    "    G, nodes=nodes, length=length, number_of_walks=number_of_walks\n",
    ")"
   ]
  },
  {
   "cell_type": "markdown",
   "metadata": {
    "id": "qem4z6L3uI6S"
   },
   "source": [
    "The graph G together with the unsupervised sampler will be used to generate samples."
   ]
  },
  {
   "cell_type": "markdown",
   "metadata": {
    "id": "bJx0OpHduI6T"
   },
   "source": [
    "**3. Create a node pair generator:**\n",
    "\n",
    "Next, create the node pair generator for sampling and streaming the training data to the model. The node pair generator essentially \"maps\" pairs of nodes `(target, context)` to the input of GraphSAGE: it either takes minibatches of node pairs, or an `UnsupervisedSampler` instance which generates the minibatches of node pairs on demand. The generator samples 2-hop subgraphs with `(target, context)` head nodes extracted from those pairs, and feeds them, together with the corresponding binary labels indicating which pair represent positive or negative sample, to the input layer of the node pair classifier with GraphSAGE node encoder, for SGD updates of the model parameters.\n",
    "\n",
    "Specify:\n",
    "1. The minibatch size (number of node pairs per minibatch).\n",
    "2. The number of epochs for training the model.\n",
    "3. The sizes of 1- and 2-hop neighbor samples for GraphSAGE:\n",
    "\n",
    "Note that the length of `num_samples` list defines the number of layers/iterations in the GraphSAGE encoder. In this example, we are defining a 2-layer GraphSAGE encoder."
   ]
  },
  {
   "cell_type": "code",
   "execution_count": 33,
   "metadata": {
    "id": "-_igh-OhuI6T"
   },
   "outputs": [],
   "source": [
    "batch_size = 128\n",
    "epochs = 20 # change number of epochs (hyper-parameter)\n",
    "num_samples = [10, 5]"
   ]
  },
  {
   "cell_type": "markdown",
   "metadata": {
    "id": "I9i71-vZuI6T"
   },
   "source": [
    "In the following we show the working of node pair generator with the UnsupervisedSampler, which will generate samples on demand."
   ]
  },
  {
   "cell_type": "code",
   "execution_count": 34,
   "metadata": {
    "id": "ry_bhQR8uI6U"
   },
   "outputs": [],
   "source": [
    "generator = GraphSAGELinkGenerator(G, batch_size, num_samples)\n",
    "train_gen = generator.flow(unsupervised_samples)"
   ]
  },
  {
   "cell_type": "markdown",
   "metadata": {
    "id": "EeOrQirnuI6U"
   },
   "source": [
    "Build the model: a 2-layer GraphSAGE encoder acting as node representation learner, with a link classification layer on concatenated (`citing-paper`, `cited-paper`) node embeddings.\n",
    "\n",
    "GraphSAGE part of the model, with hidden layer sizes of 50 for both GraphSAGE layers, a bias term, and no dropout. (Dropout can be switched on by specifying a positive dropout rate, 0 < dropout < 1).\n",
    "Note that the length of `layer_sizes` list must be equal to the length of `num_samples`, as `len(num_samples)` defines the number of hops (layers) in the GraphSAGE encoder."
   ]
  },
  {
   "cell_type": "code",
   "execution_count": 35,
   "metadata": {
    "id": "iPcxpuCiuI6V"
   },
   "outputs": [],
   "source": [
    "layer_sizes = [32,32] # dimension size\n",
    "graphsage = GraphSAGE(\n",
    "    layer_sizes=layer_sizes, generator=generator, bias=True, dropout=0.1, normalize=\"l2\", \n",
    "    aggregator=sg.layer.MaxPoolingAggregator, activations=[\"relu\",\"softmax\"]\n",
    ")\n",
    "# here, we have multiple hyper-parameters, change the values if you want to further explore this model"
   ]
  },
  {
   "cell_type": "code",
   "execution_count": 36,
   "metadata": {
    "id": "lTVuuWdjuI6V"
   },
   "outputs": [],
   "source": [
    "# Build the model and expose input and output sockets of graphsage, for node pair inputs:\n",
    "x_inp, x_out = graphsage.in_out_tensors()"
   ]
  },
  {
   "cell_type": "markdown",
   "metadata": {
    "id": "yMDOCB4suI6W"
   },
   "source": [
    "Final node pair classification layer that takes a pair of nodes' embeddings produced by `graphsage` encoder, applies a binary operator to them to produce the corresponding node pair embedding (`ip` for inner product; other options for the binary operator can be seen by running a cell with `?link_classification` in it), and passes it through a dense layer:"
   ]
  },
  {
   "cell_type": "code",
   "execution_count": 37,
   "metadata": {
    "id": "XWflkve2uI6W",
    "outputId": "af7adb37-7d32-4f38-a25d-8082e7b58b31"
   },
   "outputs": [
    {
     "name": "stdout",
     "output_type": "stream",
     "text": [
      "link_classification: using 'ip' method to combine node embeddings into edge embeddings\n"
     ]
    }
   ],
   "source": [
    "prediction = link_classification(\n",
    "    output_dim=1, output_act=\"relu\", edge_embedding_method=\"ip\"\n",
    ")(x_out)"
   ]
  },
  {
   "cell_type": "markdown",
   "metadata": {
    "id": "SRJs5pF1uI6W"
   },
   "source": [
    "Stack the GraphSAGE encoder and prediction layer into a Keras model, and specify the loss"
   ]
  },
  {
   "cell_type": "code",
   "execution_count": 38,
   "metadata": {
    "id": "nBzr6YCeuI6X"
   },
   "outputs": [],
   "source": [
    "model = keras.Model(inputs=x_inp, outputs=prediction)\n",
    "\n",
    "model.compile(\n",
    "    optimizer=keras.optimizers.Adam(learning_rate=1e-2),\n",
    "    loss=keras.losses.binary_crossentropy,\n",
    "    #loss = keras.losses.mean_squared_error,\n",
    "    #loss = keras.losses.hinge,\n",
    "    metrics=[keras.metrics.binary_accuracy],\n",
    ")"
   ]
  },
  {
   "cell_type": "markdown",
   "metadata": {
    "id": "6sqqaOz9uI6X"
   },
   "source": [
    "**4. Train the model.**"
   ]
  },
  {
   "cell_type": "code",
   "execution_count": 39,
   "metadata": {
    "id": "Pt8QJLvyuI6X",
    "outputId": "8d80a9f0-5e85-43db-b765-c385713b8d7f"
   },
   "outputs": [
    {
     "name": "stdout",
     "output_type": "stream",
     "text": [
      "Epoch 1/20\n",
      "12/12 [==============================] - 4s 17ms/step - loss: 1.3468 - binary_accuracy: 0.5585\n",
      "Epoch 2/20\n",
      "12/12 [==============================] - 1s 45ms/step - loss: 1.0294 - binary_accuracy: 0.5927\n",
      "Epoch 3/20\n",
      "12/12 [==============================] - 1s 55ms/step - loss: 0.7766 - binary_accuracy: 0.6512\n",
      "Epoch 4/20\n",
      "12/12 [==============================] - 1s 41ms/step - loss: 0.7052 - binary_accuracy: 0.6546\n",
      "Epoch 5/20\n",
      "12/12 [==============================] - 1s 46ms/step - loss: 0.6442 - binary_accuracy: 0.6801\n",
      "Epoch 6/20\n",
      "12/12 [==============================] - 1s 40ms/step - loss: 0.6594 - binary_accuracy: 0.6707\n",
      "Epoch 7/20\n",
      "12/12 [==============================] - 1s 43ms/step - loss: 0.6094 - binary_accuracy: 0.7016\n",
      "Epoch 8/20\n",
      "12/12 [==============================] - 1s 43ms/step - loss: 0.6257 - binary_accuracy: 0.6942\n",
      "Epoch 9/20\n",
      "12/12 [==============================] - 1s 41ms/step - loss: 0.5971 - binary_accuracy: 0.6983\n",
      "Epoch 10/20\n",
      "12/12 [==============================] - 1s 40ms/step - loss: 0.5817 - binary_accuracy: 0.7218\n",
      "Epoch 11/20\n",
      "12/12 [==============================] - 1s 69ms/step - loss: 0.5574 - binary_accuracy: 0.7372\n",
      "Epoch 12/20\n",
      "12/12 [==============================] - 1s 46ms/step - loss: 0.5841 - binary_accuracy: 0.7077\n",
      "Epoch 13/20\n",
      "12/12 [==============================] - 1s 45ms/step - loss: 0.5619 - binary_accuracy: 0.7312\n",
      "Epoch 14/20\n",
      "12/12 [==============================] - 1s 42ms/step - loss: 0.5785 - binary_accuracy: 0.7265\n",
      "Epoch 15/20\n",
      "12/12 [==============================] - 1s 39ms/step - loss: 0.5691 - binary_accuracy: 0.7399\n",
      "Epoch 16/20\n",
      "12/12 [==============================] - 1s 46ms/step - loss: 0.5892 - binary_accuracy: 0.7224\n",
      "Epoch 17/20\n",
      "12/12 [==============================] - 1s 51ms/step - loss: 0.5913 - binary_accuracy: 0.7164\n",
      "Epoch 18/20\n",
      "12/12 [==============================] - 1s 45ms/step - loss: 0.5804 - binary_accuracy: 0.7238\n",
      "Epoch 19/20\n",
      "12/12 [==============================] - 1s 46ms/step - loss: 0.5270 - binary_accuracy: 0.7614\n",
      "Epoch 20/20\n",
      "12/12 [==============================] - 1s 41ms/step - loss: 0.6123 - binary_accuracy: 0.7103\n"
     ]
    }
   ],
   "source": [
    "history = model.fit(\n",
    "    train_gen,\n",
    "    epochs=20,\n",
    "    verbose=1,\n",
    "    use_multiprocessing=False,\n",
    "    workers=8,\n",
    "    shuffle=True,\n",
    ")"
   ]
  },
  {
   "cell_type": "markdown",
   "metadata": {
    "id": "jifx01EDuI6Y"
   },
   "source": [
    "Note that multiprocessing is switched off, since with a large training set of node pairs, multiprocessing can considerably slow down the training process with the data being transferred between various processes. \n",
    "\n",
    "Also, multiple workers can be used with `Keras version 2.2.4` and above, and it speeds up the training process considerably due to multi-threading."
   ]
  },
  {
   "cell_type": "markdown",
   "metadata": {
    "id": "tz3Qyom0uI6Y"
   },
   "source": [
    "## Extracting node embeddings\n",
    "Now that the node pair classifier is trained, we can use its node encoder part as node embeddings evaluator. Below we evaluate node embeddings as activations of the output of GraphSAGE layer stack, and visualise them, coloring nodes by their subject label."
   ]
  },
  {
   "cell_type": "code",
   "execution_count": 40,
   "metadata": {
    "id": "Qqi4V57fuI6Z"
   },
   "outputs": [],
   "source": [
    "from sklearn.decomposition import PCA\n",
    "from sklearn.manifold import TSNE\n",
    "from stellargraph.mapper import GraphSAGENodeGenerator\n",
    "import pandas as pd\n",
    "import numpy as np\n",
    "import matplotlib.pyplot as plt\n",
    "\n",
    "%matplotlib inline"
   ]
  },
  {
   "cell_type": "markdown",
   "metadata": {
    "id": "veuq_UtYuI6Z"
   },
   "source": [
    "**Building a new node-based model**\n",
    "\n",
    "The `(src, dst)` node pair classifier `model` has two identical node encoders: one for source nodes in the node pairs, the other for destination nodes in the node pairs passed to the model. We can use either of the two identical encoders to evaluate node embeddings. Below we create an embedding model by defining a new Keras model with `x_inp_src` (a list of odd elements in `x_inp`) and `x_out_src` (the 1st element in `x_out`) as input and output, respectively. Note that this model's weights are the same as those of the corresponding node encoder in the previously trained node pair classifier."
   ]
  },
  {
   "cell_type": "code",
   "execution_count": 41,
   "metadata": {
    "id": "qzJDMnVzuI6Z"
   },
   "outputs": [],
   "source": [
    "x_inp_src = x_inp[0::2]\n",
    "x_out_src = x_out[0]\n",
    "embedding_model = keras.Model(inputs=x_inp_src, outputs=x_out_src)"
   ]
  },
  {
   "cell_type": "markdown",
   "metadata": {
    "id": "RsgrwCENuI6a"
   },
   "source": [
    "We also need a node generator to feed graph nodes to `embedding_model`. We want to evaluate node embeddings for all nodes in the graph:"
   ]
  },
  {
   "cell_type": "code",
   "execution_count": 42,
   "metadata": {
    "id": "snwFyglBuI6a"
   },
   "outputs": [],
   "source": [
    "node_ids = nodes#node_subjects.index\n",
    "node_gen = GraphSAGENodeGenerator(G, batch_size, num_samples).flow(node_ids)"
   ]
  },
  {
   "cell_type": "markdown",
   "metadata": {
    "id": "8W-ilPbZuI6a"
   },
   "source": [
    "We now use `node_gen` to feed all nodes into the embedding model and extract their embeddings:"
   ]
  },
  {
   "cell_type": "code",
   "execution_count": 43,
   "metadata": {
    "id": "GenAuebiuI6a",
    "outputId": "d3d518ca-6d69-4db6-9b28-6253eb542074"
   },
   "outputs": [
    {
     "name": "stdout",
     "output_type": "stream",
     "text": [
      "6/6 [==============================] - 1s 39ms/step\n"
     ]
    }
   ],
   "source": [
    "node_embeddings = embedding_model.predict(node_gen, workers=4, verbose=1)"
   ]
  },
  {
   "cell_type": "code",
   "execution_count": 44,
   "metadata": {},
   "outputs": [
    {
     "name": "stdout",
     "output_type": "stream",
     "text": [
      "(744, 32)\n"
     ]
    }
   ],
   "source": [
    "print ((node_embeddings.shape))"
   ]
  },
  {
   "cell_type": "code",
   "execution_count": 45,
   "metadata": {},
   "outputs": [
    {
     "name": "stdout",
     "output_type": "stream",
     "text": [
      "(744, 1) (744, 1)\n",
      "(744, 2)\n"
     ]
    }
   ],
   "source": [
    "# f = open(\"mouse_emd.csv\")\n",
    "mouse_nodes = np.array(nodes).reshape(len(nodes),1)\n",
    "mouse_ind = np.array(ind).reshape(len(nodes),1)\n",
    "\n",
    "print (mouse_nodes.shape, mouse_ind.shape)\n",
    "\n",
    "np.savetxt(\"network_embeddings/mouse_explog_20.csv\", node_embeddings, delimiter=\",\") ## change file name\n",
    "new = np.concatenate((mouse_ind, mouse_nodes), axis=1)\n",
    "print (new.shape)\n",
    "np.savetxt(\"network_embeddings/mouse_explog_20_nodes.csv\", new, delimiter=\",\",fmt='%s') ## change file name"
   ]
  },
  {
   "cell_type": "markdown",
   "metadata": {
    "id": "F7Vj4Jv7uI6b"
   },
   "source": [
    "### Visualize the node embeddings \n",
    "Next we visualize the node embeddings in 2D using t-SNE. Colors of the nodes depict their true classes (subject in the case of Cora dataset) of the nodes. "
   ]
  },
  {
   "cell_type": "code",
   "execution_count": 46,
   "metadata": {
    "id": "37GZXtjzuI6b"
   },
   "outputs": [
    {
     "name": "stderr",
     "output_type": "stream",
     "text": [
      "/home/umair/anaconda3/lib/python3.8/site-packages/sklearn/manifold/_t_sne.py:780: FutureWarning: The default initialization in TSNE will change from 'random' to 'pca' in 1.2.\n",
      "  warnings.warn(\n",
      "/home/umair/anaconda3/lib/python3.8/site-packages/sklearn/manifold/_t_sne.py:790: FutureWarning: The default learning rate in TSNE will change from 200.0 to 'auto' in 1.2.\n",
      "  warnings.warn(\n"
     ]
    }
   ],
   "source": [
    "#node_subject = node_subjects.astype(\"category\").cat.codes\n",
    "\n",
    "X = node_embeddings\n",
    "if X.shape[1] > 2:\n",
    "    transform = TSNE  # PCA\n",
    "\n",
    "    trans = transform(n_components=2)\n",
    "    emb_transformed = pd.DataFrame(trans.fit_transform(X), index=nodes)\n",
    "    emb_transformed[\"label\"] = ind#node_subject\n",
    "else:\n",
    "    emb_transformed = pd.DataFrame(X, index=node_ids)\n",
    "    emb_transformed = emb_transformed.rename(columns={\"0\": 0, \"1\": 1})\n",
    "    emb_transformed[\"label\"] = \"Y\"#node_subject"
   ]
  },
  {
   "cell_type": "code",
   "execution_count": 47,
   "metadata": {
    "id": "8dVyWJ8GuI6b",
    "outputId": "9b9f6858-e6bc-4875-a404-68ebe795256f"
   },
   "outputs": [
    {
     "data": {
      "image/png": "[encoded data removed]",
      "text/plain": [
       "<Figure size 504x504 with 1 Axes>"
      ]
     },
     "metadata": {
      "needs_background": "light"
     },
     "output_type": "display_data"
    }
   ],
   "source": [
    "alpha = 0.7\n",
    "\n",
    "fig, ax = plt.subplots(figsize=(7, 7))\n",
    "ax.scatter(\n",
    "    emb_transformed[0],\n",
    "    emb_transformed[1],\n",
    "    c=emb_transformed[\"label\"].astype(\"category\"),\n",
    "    cmap=\"jet\",\n",
    "    alpha=alpha,\n",
    ")\n",
    "ax.set(aspect=\"equal\", xlabel=\"$X_1$\", ylabel=\"$X_2$\")\n",
    "plt.title(\"Human (RAW-Exp-Data) --> Avg ---> log --> GCNN-100\")\n",
    "plt.show()"
   ]
  },
  {
   "cell_type": "markdown",
   "metadata": {
    "id": "yp-9zcDduI6c"
   },
   "source": [
    "The observation that same-colored nodes in the embedding space are concentrated together is indicative  of similarity of embeddings of papers on the same topics. We would emphasize here again that the node embeddings are learnt in unsupervised way, without using true class labels. "
   ]
  }
 ],
 "metadata": {
  "colab": {
   "name": "graphsage-unsupervised-sampler-embeddings.ipynb",
   "provenance": []
  },
  "file_extension": ".py",
  "kernelspec": {
   "display_name": "Python 3",
   "language": "python",
   "name": "python3"
  },
  "language_info": {
   "codemirror_mode": {
    "name": "ipython",
    "version": 3
   },
   "file_extension": ".py",
   "mimetype": "text/x-python",
   "name": "python",
   "nbconvert_exporter": "python",
   "pygments_lexer": "ipython3",
   "version": "3.8.3"
  },
  "mimetype": "text/x-python",
  "name": "python",
  "npconvert_exporter": "python",
  "pygments_lexer": "ipython3",
  "version": 3
 },
 "nbformat": 4,
 "nbformat_minor": 1
}
